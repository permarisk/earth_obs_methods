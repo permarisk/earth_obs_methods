{
 "cells": [
  {
   "cell_type": "code",
   "execution_count": null,
   "id": "fd00dee9",
   "metadata": {},
   "outputs": [],
   "source": [
    "import xarray as xr\n",
    "import numpy as np\n",
    "import matplotlib.pyplot as plt\n",
    "\n",
    "from xclim.core.missing import missing_pct\n",
    "from xclim.indices.generic import select_resample_op\n",
    "from xclim.indices.stats import fa, fit, frequency_analysis, parametric_quantile\n",
    "import gdown"
   ]
  },
  {
   "cell_type": "code",
   "execution_count": null,
   "id": "29c11011",
   "metadata": {},
   "outputs": [],
   "source": [
    "#'GOOGLE_DRIVE_LINK' to NetCDF file\n",
    "url = 'https://drive.google.com/file/d/1ljDfwAeyfLNMsArQDOFP9-7y4EC7Brxq/view?usp=drive_link'\n",
    "# Download the NetCDF file\n",
    "file_path = 'data/input/ERA5_Tenerife_total_precipitation_day_1950_2000.nc'\n",
    "gdown.download(url, file_path, quiet=False, fuzzy=True)"
   ]
  },
  {
   "cell_type": "code",
   "execution_count": null,
   "id": "f5d580cf",
   "metadata": {},
   "outputs": [],
   "source": [
    "# Load the ERA5 reanalysis daily precipitation data for Tenerife from 1950 - 2000 \n",
    "file_path = 'data/input/ERA5_Tenerife_total_precipitation_day_1950_2000.nc'\n",
    "\n",
    "daily_precipitation = xr.open_dataset(file_path)\n",
    "# Add an attribute to the dataset\n",
    "daily_precipitation.attrs['units'] = 'mm/d'\n",
    "# create a array which only conains the years \n",
    "years = daily_precipitation['time'].dt.year.values"
   ]
  },
  {
   "cell_type": "code",
   "execution_count": null,
   "id": "d91ea612",
   "metadata": {},
   "outputs": [],
   "source": [
    "# Print the loaded data base\n",
    "daily_precipitation"
   ]
  },
  {
   "cell_type": "code",
   "execution_count": null,
   "id": "ed1e2be8",
   "metadata": {},
   "outputs": [],
   "source": [
    "# Calcualte mean total annual precipitation\n",
    "\n",
    "# first group by year and sum up values\n",
    "annual_total_precipitation = daily_precipitation.groupby('time.year').sum(dim='time')\n",
    "# second calaculate the mean\n",
    "annual_total_precipitation_mean = annual_total_precipitation.mean(dim='year')\n",
    "annual_total_precipitation_mean"
   ]
  },
  {
   "cell_type": "code",
   "execution_count": null,
   "id": "4e25b240",
   "metadata": {},
   "outputs": [],
   "source": [
    "# Plot the map of mean total annual precipitation\n",
    "annual_total_precipitation_mean['tp'].plot.imshow()\n",
    "plt.title('Mean Total Annual Precipitation')\n",
    "plt.xlabel('Longitude')\n",
    "plt.ylabel('Latitude')\n",
    "plt.show()"
   ]
  },
  {
   "cell_type": "code",
   "execution_count": null,
   "id": "97fbbb68",
   "metadata": {},
   "outputs": [],
   "source": [
    "threshold = 30\n",
    "\n",
    "#Calaculate the mean annual intensity of precipitation events > threshold\n",
    "intensity_threshold = daily_precipitation.where(daily_precipitation['tp'] > threshold)\n",
    "intensity_annual_sum = intensity_threshold.groupby('time.year').sum(dim='time')\n",
    "intensity_mean = intensity_annual_sum.mean(dim='year')\n",
    "\n",
    "#Calaculate the mean annual probability of precipitation events > threshold\n",
    "probability_n = (daily_precipitation['tp'] > threshold)\n",
    "probability_n_annual_sum = probability_n.groupby('time.year').sum(dim='time')\n",
    "probability_annual_mean = probability_n_annual_sum / 365 \n",
    "probability_mean = probability_annual_mean.mean(dim='year')\n",
    "\n",
    "#probability_mean_xr = xr.Dataset({'intensity':probability_mean.values}, coords={'longitude': probability_mean['longitude'],'latitude': probability_mean['latitude']})\n",
    "probability_mean_xr = xr.Dataset({'probability':probability_mean})"
   ]
  },
  {
   "cell_type": "code",
   "execution_count": null,
   "id": "d610e29c",
   "metadata": {},
   "outputs": [],
   "source": [
    "# Plot mean annual intensity map of precipitation events > threshold\n",
    "intensity_mean['tp'].plot.imshow()\n",
    "plt.title('Mean Annual Intensity of Extreme Precipitation Events')\n",
    "plt.xlabel('Longitude')\n",
    "plt.ylabel('Latitude')\n",
    "plt.show()\n",
    "\n",
    "# Plot mean annual probability precipitation events > threshold\n",
    "probability_mean.plot.imshow()\n",
    "plt.title('Mean Annual Probability of Extreme Precipitation Events')\n",
    "plt.xlabel('Longitude')\n",
    "plt.ylabel('Latitude')\n",
    "plt.show()"
   ]
  },
  {
   "cell_type": "code",
   "execution_count": null,
   "id": "2847aa71",
   "metadata": {},
   "outputs": [],
   "source": [
    "# Store the mean and median maps as netcdf file in the given folder\n",
    "path = 'data/results/'\n",
    "filename = 'ERA5_Tenerife_mean_total_precipitation_'  + str(years[0]) + '_' + str(years[-1]) + '.nc'\n",
    "annual_total_precipitation_mean.to_netcdf(path + filename)\n",
    "\n",
    "filename = 'ERA5_Tenerife_intensity_extreme_precipitation_' + str(threshold) + 'mm_'  + str(years[0]) + '_' + str(years[-1]) + '.nc'\n",
    "intensity_mean.to_netcdf(path + filename)\n",
    "\n",
    "filename = 'ERA5_Tenerife_probability_extreme_precipitation_' + str(threshold) + 'mm_' + str(years[0]) + '_' + str(years[-1]) + '.nc'\n",
    "probability_mean_xr.to_netcdf(path + filename)"
   ]
  },
  {
   "cell_type": "markdown",
   "id": "ea32d698",
   "metadata": {},
   "source": [
    "Now perform the following analysis:\n",
    "- Calaculate the block maxima with annual frequency for each pixel\n",
    "- Fit the GEV function to these maxima for each pixel\n",
    "- Calculate the expected extreme precipitation events for 5, 10 and 20 year return periods\n",
    "- Create complete maps of the expected extreme precipitation events with QGIS (use the Tenerife Shapefile)\n",
    "\n",
    "Make use of the [xclim libary](https://xclim.readthedocs.io/en/stable/notebooks/frequency_analysis.html) which is already imported (see script header)"
   ]
  },
  {
   "cell_type": "code",
   "execution_count": null,
   "id": "669831db",
   "metadata": {},
   "outputs": [],
   "source": [
    "# Befor the 2D map can be saved we have to get rid\n",
    "# of the quatile dimension using sel(quantile=pq['quantile'][0], drop=True)\n",
    "\n",
    "# Save map as new netcdf file in the reult folder e.g. with a file name\n",
    "# filename = 'ERA5_Tenerife_precipitation_event_return_period_'  + f'T_ {return_period:.0f}' + '.nc'"
   ]
  },
  {
   "cell_type": "code",
   "execution_count": null,
   "id": "87ad93b6",
   "metadata": {},
   "outputs": [],
   "source": []
  }
 ],
 "metadata": {
  "kernelspec": {
   "display_name": "Python 3 (ipykernel)",
   "language": "python",
   "name": "python3"
  },
  "language_info": {
   "codemirror_mode": {
    "name": "ipython",
    "version": 3
   },
   "file_extension": ".py",
   "mimetype": "text/x-python",
   "name": "python",
   "nbconvert_exporter": "python",
   "pygments_lexer": "ipython3",
   "version": "3.8.10"
  }
 },
 "nbformat": 4,
 "nbformat_minor": 5
}
