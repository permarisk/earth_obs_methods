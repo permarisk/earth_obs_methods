{
 "cells": [
  {
   "cell_type": "code",
   "execution_count": null,
   "id": "92336f73",
   "metadata": {},
   "outputs": [],
   "source": [
    "# We need some python libaries (tools) which we typicall load in the beginning of our script\n",
    "\n",
    "# importing numpy as np\n",
    "import numpy as np\n",
    "# importing pyplot as plt\n",
    "import matplotlib.pyplot as plt\n",
    "# improrting pandas\n",
    "import pandas as pd\n",
    "\n",
    "# importing tool to display tables\n",
    "from itables import init_notebook_mode, show\n",
    "init_notebook_mode(all_interactive=False)"
   ]
  },
  {
   "cell_type": "code",
   "execution_count": null,
   "id": "69779a2f",
   "metadata": {},
   "outputs": [],
   "source": [
    "# Simulate some daily temperature data using a random number generator \n",
    "\n",
    "# First we have to set some paramters\n",
    "years = 50 #number of years\n",
    "size = 365 * years #total size of the dataset\n",
    "pos = 15 #mean annual temperature\n",
    "scale = 5 # standard deviation of daily temperature for simulating annual temp distribution \n",
    "\n",
    "# With only two statistical moments we can generate random numbers using a normal distribution\n",
    "data_1 = np.random.normal(pos, scale, size)\n",
    "\n",
    "# same for a second temperature distribution \n",
    "pos = 16.5# mean annual temperature\n",
    "scale = 5 # standard deviation of daily temperature for simulating annual temp distribution \n",
    "data_2 = np.random.normal(pos, scale, size)"
   ]
  },
  {
   "cell_type": "code",
   "execution_count": null,
   "id": "3eaad1c1",
   "metadata": {},
   "outputs": [],
   "source": [
    "# Store data in a dataframe\n",
    "df = pd.DataFrame({'day': range(1,data_1.size+1) , 'temperature 1': data_1, 'temperature 2': data_2})\n",
    "# Print dataframe as table \n",
    "show(df)"
   ]
  },
  {
   "cell_type": "code",
   "execution_count": null,
   "id": "cdfa0198",
   "metadata": {},
   "outputs": [],
   "source": [
    "# Calculate some statistical moments\n",
    "mean_temp = np.mean(df['temperature 1']) #mean\n",
    "percentile_99 = np.percentile(df['temperature 1'],99) #99% percentile\n",
    "\n",
    "# Plot the Histogram\n",
    "plt.figure(figsize=(8, 6))\n",
    "plt.hist(df['temperature 2'], bins=50, alpha=0.7, color='yellow', edgecolor='black')\n",
    "plt.hist(df['temperature 1'], bins=50, alpha=0.7, color='skyblue', edgecolor='black')\n",
    "\n",
    "# Add lines for median, and percentiles\n",
    "plt.axvline(mean_temp, color='red', linestyle='dashed', linewidth=2, label=f'Median: {mean_temp:.2f}')\n",
    "plt.axvline(percentile_99, color='purple', linestyle='dashed', linewidth=2, label=f'99th Percentile: {percentile_99:.2f}')\n",
    "\n",
    "# Plot legend, labels, and title\n",
    "plt.legend()\n",
    "plt.xlabel('Temperatures (°C)')\n",
    "plt.ylabel('Count in days within ' + f'{years:} years')\n",
    "plt.title('Histogram of daily temperatures')\n",
    "plt.grid(True)\n",
    "plt.show()"
   ]
  },
  {
   "cell_type": "code",
   "execution_count": null,
   "id": "d339f292",
   "metadata": {},
   "outputs": [],
   "source": [
    "# Select only temperatures that are higher than 99% percentile\n",
    "df_1=df['temperature 1'][df['temperature 1']>percentile_99]\n",
    "df_2=df['temperature 2'][df['temperature 2']>percentile_99]\n",
    "\n",
    "# Plot the Histogram of extremes\n",
    "plt.figure(figsize=(8, 6))\n",
    "# Determine bins based on the maximum and minimum values of both datasets\n",
    "bins = np.histogram_bin_edges(np.concatenate([df_1, df_2]), bins=10)\n",
    "plt.hist(df_2, bins=bins, alpha=0.7, color='yellow', edgecolor='black')\n",
    "plt.hist(df_1, bins=bins, alpha=0.7, color='skyblue', edgecolor='black')\n",
    "plt.xlabel('Temperatures (°C)')\n",
    "plt.ylabel('Count in days within ' + f'{years:} years')\n",
    "plt.title('Histogram of daily temperatures > ' + f'99th Percentile: {percentile_99:.2f}°C')\n",
    "plt.grid(True)\n",
    "plt.show()"
   ]
  },
  {
   "cell_type": "code",
   "execution_count": null,
   "id": "08cc340a",
   "metadata": {},
   "outputs": [],
   "source": [
    "# Calaculate values for Probabiliy/Frequency and Intensity\n",
    "#===================================================================================================\n",
    "#select from temperature distribution 1\n",
    "count_1 = np.sum(df['temperature 1']>percentile_99)\n",
    "dd_1 = np.sum(df['temperature 1'][df['temperature 1']>percentile_99])\n",
    "\n",
    "frequency = count_1 / years #e.g count per year \n",
    "intensity = dd_1 / years #e.g. degree days or sum of precipitation\n",
    "\n",
    "# Print out results of temperature distribution 1\n",
    "print( f'The frequency of extreme temperatures > {percentile_99:.2f}°C is: {frequency:.2f} per year')\n",
    "print( f'The intensity of extreme temperatures > {percentile_99:.2f}°C is: {intensity:.2f} degree days per year')\n",
    "\n",
    "count_2 = np.sum(df['temperature 2']>percentile_99)\n",
    "dd_2 = np.sum(df['temperature 2'][df['temperature 2']>percentile_99])\n",
    "\n",
    "#====================================================================================================\n",
    "#select from temperature distribution 2\n",
    "frequency = count_2 / years #e.g count per year \n",
    "intensity = dd_2 / years #e.g. degree days or sum of precipitation\n",
    "\n",
    "# Print out results of temperature distribution 2\n",
    "print( f'The frequency of extreme temperatures > {percentile_99:.2f}°C is: {frequency:.2f} per year')\n",
    "print( f'The intensity of extreme temperatures > {percentile_99:.2f}°C is: {intensity:.2f} degree days per year')"
   ]
  },
  {
   "cell_type": "code",
   "execution_count": null,
   "id": "5863aa9a",
   "metadata": {},
   "outputs": [],
   "source": []
  }
 ],
 "metadata": {
  "kernelspec": {
   "display_name": "Python 3 (ipykernel)",
   "language": "python",
   "name": "python3"
  },
  "language_info": {
   "codemirror_mode": {
    "name": "ipython",
    "version": 3
   },
   "file_extension": ".py",
   "mimetype": "text/x-python",
   "name": "python",
   "nbconvert_exporter": "python",
   "pygments_lexer": "ipython3",
   "version": "3.8.10"
  }
 },
 "nbformat": 4,
 "nbformat_minor": 5
}
