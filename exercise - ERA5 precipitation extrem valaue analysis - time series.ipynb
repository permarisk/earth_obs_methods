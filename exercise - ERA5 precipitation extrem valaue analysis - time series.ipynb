{
 "cells": [
  {
   "cell_type": "code",
   "execution_count": null,
   "id": "3facdc23",
   "metadata": {},
   "outputs": [],
   "source": [
    "import xarray as xr\n",
    "import pandas as pd\n",
    "\n",
    "import matplotlib.pyplot as plt\n",
    "import seaborn as sns\n",
    "\n",
    "import numpy as np\n",
    "import scipy.stats as stats\n",
    "from scipy.stats import norm\n",
    "from scipy.stats import gamma\n",
    "from scipy.stats import genextreme as gev\n",
    "\n",
    "from pyextremes import EVA"
   ]
  },
  {
   "cell_type": "code",
   "execution_count": null,
   "id": "5d9faf1f",
   "metadata": {},
   "outputs": [],
   "source": [
    "# Load the ERA5 reanalysis daily precipitation data for Tenerife from 1950 - 2000 \n",
    "file_path = 'data/input/ERA5_Tenerife_total_precipitation_day_1950_2000.nc'\n",
    "\n",
    "daily_precipitation = xr.open_dataset(file_path)\n",
    "# Add an attribute to the dataset\n",
    "daily_precipitation.attrs['units'] = 'mm/d'\n",
    "# create a array which only conains the years \n",
    "years = daily_precipitation['time'].dt.year.values"
   ]
  },
  {
   "cell_type": "code",
   "execution_count": null,
   "id": "67d5f6d0",
   "metadata": {},
   "outputs": [],
   "source": [
    "# Print the loaded data base\n",
    "daily_precipitation\n",
    "\n",
    "# Select on grid cell accroding to coordinates \n",
    "latitude_target = 28.25\n",
    "longitude_target = -16.76\n",
    "daily_precipitation = daily_precipitation.sel(latitude=latitude_target, longitude=longitude_target, method='nearest')"
   ]
  },
  {
   "cell_type": "code",
   "execution_count": null,
   "id": "35ddc537",
   "metadata": {},
   "outputs": [],
   "source": [
    "# Calculate monthly sums\n",
    "monthly_sum_precipitation = daily_precipitation.resample(time='1m').sum(dim='time')\n",
    "# Calaculate a mean of monthly sums from the years\n",
    "annual_mean_precipitation_monthly_sum = monthly_sum_precipitation.groupby('time.month').mean(dim='time')\n"
   ]
  },
  {
   "cell_type": "code",
   "execution_count": null,
   "id": "193ad6d4",
   "metadata": {},
   "outputs": [],
   "source": [
    "# Convert DataArray to pandas DataFrame for easier plotting\n",
    "df = annual_mean_precipitation_monthly_sum.to_dataframe()\n",
    "\n",
    "# Plot mean monthly precipitation of multi-annual means as a bar plot\n",
    "df['tp'].plot(kind='bar', figsize=(10, 6))\n",
    "plt.title('Spatial Mean of Multi-Annual Monthly Total Precipitation (Entire Domain)')\n",
    "plt.xlabel('Month')\n",
    "plt.ylabel('Total Precipitation [mm]')\n",
    "plt.xticks(range(12), ['Jan', 'Feb', 'Mar', 'Apr', 'May', 'Jun', 'Jul', 'Aug', 'Sep', 'Oct', 'Nov', 'Dec'], rotation=45)\n",
    "plt.grid(axis='y')\n",
    "plt.show()"
   ]
  },
  {
   "cell_type": "code",
   "execution_count": null,
   "id": "da5fc66b",
   "metadata": {},
   "outputs": [],
   "source": [
    "# A diffrent way of ploting the precipitation allows us to learn something\n",
    "# about distribution of values within the months\n",
    "\n",
    "# First calaculate spatial mean for daily values which are grouped by month\n",
    "spatial_mean_daily_precipitation_monthly = daily_precipitation['tp'].groupby('time.month')\n",
    "\n",
    "# Prepare data for violin plots (daily values must be stored in lists for every month)\n",
    "data_list = []\n",
    "data_99p_list = []\n",
    "months = range(1, 13)  # Months range from 1 to 12\n",
    "for m in months:\n",
    "    # Extract data for each month\n",
    "    data_month = spatial_mean_daily_precipitation_monthly[m]  \n",
    "    # Calaculate 99% percentile for each month\n",
    "    data_month_99p = data_month.reduce(np.percentile, q=99, dim='time')   \n",
    "    # store data into lists for each month \n",
    "    data_list.append(data_month.values)\n",
    "    data_99p_list.append(data_month_99p.values)\n",
    "    \n",
    "# Create violin plots we use the seaborn libary\n",
    "plt.figure(figsize=(10, 6))\n",
    "sns.violinplot(data=data_list, cut=0, palette=\"Blues\")\n",
    "plt.title('Multi-Annual Daily Precipitation Distribution per Month')\n",
    "plt.xlabel('Month')\n",
    "plt.ylabel('Precipitation [mm]')\n",
    "plt.xticks(range(12), ['Jan', 'Feb', 'Mar', 'Apr', 'May', 'Jun', 'Jul', 'Aug', 'Sep', 'Oct', 'Nov', 'Dec'])\n",
    "plt.grid(axis='y')\n",
    "\n",
    "plt.plot(np.arange(0,12,1),data_99p_list, color='r', linestyle='--', label=f'99th Percentile')\n",
    "plt.show()"
   ]
  },
  {
   "cell_type": "code",
   "execution_count": null,
   "id": "28817755",
   "metadata": {},
   "outputs": [],
   "source": [
    "# Optain array of precipitation data from the xarray\n",
    "daily_mean = daily_precipitation['tp']\n",
    "\n",
    "# filter out only wet days (daily precipitation > 1mm)\n",
    "daily_mean_wet = daily_mean[(daily_mean > 1)]\n",
    "daily_mean_dry = daily_mean[(daily_mean <= 1)]\n",
    "\n",
    "n_days = daily_mean.size\n",
    "n_wet_days = daily_mean_wet.size\n",
    "n_dry_days = daily_mean_dry.size\n",
    "\n",
    "p_wet_day = n_wet_days/n_days\n",
    "\n",
    "print(f'In total there are {n_wet_days:.0f} wet days out of {n_days:.0f} observations')\n",
    "print(f'The mean daily propabilty of wet day is {p_wet_day:.2f} dry days out of {n_days:.0f} observations')"
   ]
  },
  {
   "cell_type": "code",
   "execution_count": null,
   "id": "b6940223",
   "metadata": {},
   "outputs": [],
   "source": [
    "# Calculate mean, median, and percentiles\n",
    "mean_precip = daily_mean_wet.mean().values\n",
    "median_precip = np.nanmedian(daily_mean_wet.values)\n",
    "percentile_95 = np.nanpercentile(daily_mean_wet.values, 95)\n",
    "percentile_99 = np.nanpercentile(daily_mean_wet.values, 99)"
   ]
  },
  {
   "cell_type": "code",
   "execution_count": null,
   "id": "8011fe80",
   "metadata": {},
   "outputs": [],
   "source": [
    "# Plot the histogram\n",
    "plt.figure(figsize=(8, 6))\n",
    "plt.hist(daily_mean_wet, bins=50, alpha=0.7, color='skyblue', edgecolor='black')\n",
    "\n",
    "# Add lines for mean, median, and percentiles\n",
    "plt.axvline(mean_precip, color='red', linestyle='dashed', linewidth=1, label=f'Mean: {mean_precip:.2f}')\n",
    "plt.axvline(median_precip, color='green', linestyle='dashed', linewidth=1, label=f'Median: {median_precip:.2f}')\n",
    "plt.axvline(percentile_95, color='orange', linestyle='dashed', linewidth=1, label=f'95th Percentile: {percentile_95:.2f}')\n",
    "plt.axvline(percentile_99, color='purple', linestyle='dashed', linewidth=1, label=f'99th Percentile: {percentile_99:.2f}')\n",
    "\n",
    "# Plot legend, labels, and title\n",
    "plt.legend()\n",
    "plt.xlabel('Daily Mean Precipitation (mm)')\n",
    "plt.ylabel('Frequency')\n",
    "plt.title('Histogram of Daily Mean Precipitation with Percentiles')\n",
    "plt.grid(True)\n",
    "plt.show()"
   ]
  },
  {
   "cell_type": "code",
   "execution_count": null,
   "id": "2f36f6b4",
   "metadata": {},
   "outputs": [],
   "source": [
    "# Create a DataFrame for better organization and visualization\n",
    "df = pd.DataFrame({'Date': daily_mean_wet['time'], 'DailyRecords': daily_mean_wet.values})\n",
    "df"
   ]
  },
  {
   "cell_type": "markdown",
   "id": "50434075",
   "metadata": {},
   "source": [
    "Perform the following analysis based on the theoretical example from the lecture:\n",
    "\n",
    " - Fit a well-suited distribution function to the (non-zero) precipitation data.\n",
    " - Calculate the return period for events > 30 mm. Note that the model is based on wet days only, but that there is a large fraction of dry days, which affects the resulting annual probability.\n",
    " - Apply the block maximum method and calculate the return period for events > 30 mm.\n",
    " "
   ]
  },
  {
   "cell_type": "code",
   "execution_count": null,
   "id": "da72c987",
   "metadata": {},
   "outputs": [],
   "source": []
  }
 ],
 "metadata": {
  "kernelspec": {
   "display_name": "Python 3 (ipykernel)",
   "language": "python",
   "name": "python3"
  },
  "language_info": {
   "codemirror_mode": {
    "name": "ipython",
    "version": 3
   },
   "file_extension": ".py",
   "mimetype": "text/x-python",
   "name": "python",
   "nbconvert_exporter": "python",
   "pygments_lexer": "ipython3",
   "version": "3.8.10"
  }
 },
 "nbformat": 4,
 "nbformat_minor": 5
}
