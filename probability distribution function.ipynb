{
 "cells": [
  {
   "cell_type": "code",
   "execution_count": null,
   "id": "92336f73",
   "metadata": {},
   "outputs": [],
   "source": [
    "# We need some python libaries (tools) which we typicall load in the beginning of our script\n",
    "\n",
    "# importing numpy as np\n",
    "import numpy as np\n",
    "# importing pyplot as plt\n",
    "import matplotlib.pyplot as plt\n",
    "# improrting pandas\n",
    "import pandas as pd\n",
    "\n",
    "# importing tool to display tables\n",
    "from itables import init_notebook_mode, show\n",
    "init_notebook_mode(all_interactive=False)"
   ]
  },
  {
   "cell_type": "code",
   "execution_count": null,
   "id": "69779a2f",
   "metadata": {},
   "outputs": [],
   "source": [
    "# Simulate some daily temperature data using a random number generator \n",
    "\n",
    "# First we have to set some paramters\n",
    "years = 50 #how many years\n",
    "size = 365 * years #total size of the dataset\n",
    "pos = 15 # mean annual temperature\n",
    "scale = 4 # standard deviation of daily temperature for simulating annual temp distribution \n",
    "\n",
    "# With only two statistical moments we can generate random numbers using a normal distribution\n",
    "data = np.random.normal(pos, scale, size)"
   ]
  },
  {
   "cell_type": "code",
   "execution_count": null,
   "id": "3eaad1c1",
   "metadata": {},
   "outputs": [],
   "source": [
    "# Store data in a dataframe\n",
    "df = pd.DataFrame({'day': range(1,data.size+1) , 'temperature': data})\n",
    "\n",
    "# Print dataframe as table \n",
    "show(df)"
   ]
  },
  {
   "cell_type": "code",
   "execution_count": null,
   "id": "cdfa0198",
   "metadata": {},
   "outputs": [],
   "source": [
    "# Calculate some statistical moments\n",
    "mean_temp = np.mean(df['temperature']) #mean\n",
    "median_temp = np.median(df['temperature']) #median\n",
    "percentile_95 = np.percentile(df['temperature'],95) #95% percentile\n",
    "percentile_99 = np.percentile(df['temperature'],99) #99% percentile\n",
    "\n",
    "# Plot the Histogram\n",
    "plt.figure(figsize=(8, 6))\n",
    "plt.hist(df['temperature'], bins=50, alpha=0.7, color='skyblue', edgecolor='black')\n",
    "\n",
    "# Add lines for median, and percentiles\n",
    "plt.axvline(median_temp, color='red', linestyle='dashed', linewidth=2, label=f'Median: {median_temp:.2f}')\n",
    "plt.axvline(percentile_95, color='orange', linestyle='dashed', linewidth=2, label=f'95th Percentile: {percentile_95:.2f}')\n",
    "plt.axvline(percentile_99, color='purple', linestyle='dashed', linewidth=2, label=f'99th Percentile: {percentile_99:.2f}')\n",
    "\n",
    "# Plot legend, labels, and title\n",
    "plt.legend()\n",
    "plt.xlabel('Temperatures (°C)')\n",
    "plt.ylabel('Count in days within ' + f'{years:} years')\n",
    "plt.title('Histogram of daily temperatures')\n",
    "plt.grid(True)\n",
    "plt.show()"
   ]
  },
  {
   "cell_type": "code",
   "execution_count": null,
   "id": "d339f292",
   "metadata": {},
   "outputs": [],
   "source": [
    "# Cumulative distribution function\n",
    "# sort the data in decending order\n",
    "df_sorted = df.sort_values('temperature', ascending=False)\n",
    "#show(df_sorted)\n",
    "\n",
    "rank = np.arange(1,np.size(data)+1)\n",
    "df_sorted.insert(2,'rank', rank) \n",
    "#show(df_sorted)\n",
    "\n",
    "# Calculate return period in days\n",
    "return_period = 365*years/df_sorted['rank'] \n",
    "\n",
    "# Calaculate occurence probabilty\n",
    "probability = 1 / return_period\n",
    "\n",
    "# Add to sorted dataframe\n",
    "df_sorted.insert(3,'return period', return_period) \n",
    "df_sorted.insert(4,'probability', probability) \n",
    "show(df_sorted)"
   ]
  },
  {
   "cell_type": "code",
   "execution_count": null,
   "id": "9b183678",
   "metadata": {},
   "outputs": [],
   "source": [
    "# Plot complementary cumulative distribution function \n",
    "plt.figure(figsize=(8, 6))\n",
    "plt.plot(df_sorted['temperature'],df_sorted['probability'])\n",
    "plt.axvline(median_temp, color='red', linestyle='dashed', linewidth=2, label=f'Median: {median_temp:.2f}')\n",
    "plt.axhline(1-0.5, color='red', linestyle='dashed', linewidth=2)\n",
    "plt.axvline(percentile_95, color='orange', linestyle='dashed', linewidth=2, label=f'95th Percentile: {percentile_95:.2f}')\n",
    "plt.axhline(1-0.95, color='orange', linestyle='dashed', linewidth=2)\n",
    "plt.axvline(percentile_99, color='purple', linestyle='dashed', linewidth=2, label=f'99th Percentile: {percentile_99:.2f}')\n",
    "plt.axhline(1-0.99, color='purple', linestyle='dashed', linewidth=2)\n",
    "\n",
    "# Plot legend, labels, and title\n",
    "plt.legend()\n",
    "plt.xlabel('Temperature (°C)')\n",
    "plt.ylabel('Probability of exceedance')\n",
    "plt.title('Complementary Cumulative Distribution Function of daily exceedance (P(X>x))')\n",
    "plt.grid(True)\n",
    "plt.show()"
   ]
  },
  {
   "cell_type": "code",
   "execution_count": null,
   "id": "f7d863d5",
   "metadata": {},
   "outputs": [],
   "source": [
    "# From daily to annual propability of annual exceedance\n",
    "probability_annual_excendance = 1-(1-df_sorted['probability'])**365"
   ]
  },
  {
   "cell_type": "code",
   "execution_count": null,
   "id": "c4cd1771",
   "metadata": {},
   "outputs": [],
   "source": [
    "# Plot complementary cumulative distribution function \n",
    "plt.figure(figsize=(8, 6))\n",
    "plt.plot(df_sorted['temperature'],probability_annual_excendance)\n",
    "\n",
    "# Plot legend, labels, and title\n",
    "plt.xlabel('Temperature (°C)')\n",
    "plt.ylabel('Probability of exceedance')\n",
    "plt.title('Complementary Cumulative Distribution Function of annual exceedance [1-(1-P(X>x))^365]')\n",
    "plt.grid(True)\n",
    "plt.show()"
   ]
  },
  {
   "cell_type": "code",
   "execution_count": null,
   "id": "5863aa9a",
   "metadata": {},
   "outputs": [],
   "source": []
  }
 ],
 "metadata": {
  "kernelspec": {
   "display_name": "Python 3 (ipykernel)",
   "language": "python",
   "name": "python3"
  },
  "language_info": {
   "codemirror_mode": {
    "name": "ipython",
    "version": 3
   },
   "file_extension": ".py",
   "mimetype": "text/x-python",
   "name": "python",
   "nbconvert_exporter": "python",
   "pygments_lexer": "ipython3",
   "version": "3.8.10"
  }
 },
 "nbformat": 4,
 "nbformat_minor": 5
}
