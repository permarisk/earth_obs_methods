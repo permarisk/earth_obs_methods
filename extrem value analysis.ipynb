{
 "cells": [
  {
   "cell_type": "code",
   "execution_count": null,
   "id": "d50bf021",
   "metadata": {},
   "outputs": [],
   "source": [
    "# importing numpy as np\n",
    "import numpy as np\n",
    "import pandas as pd\n",
    " \n",
    "# importing pyplot as plt\n",
    "import matplotlib.pyplot as plt\n",
    "\n",
    "from scipy.stats import norm\n",
    "from scipy.stats import genextreme as gev"
   ]
  },
  {
   "cell_type": "code",
   "execution_count": null,
   "id": "43e7c16a",
   "metadata": {},
   "outputs": [],
   "source": [
    "# Simulate Maximum annual temperatures \n",
    "years = 30\n",
    "extrem_days = 0\n",
    "annual_T_max = []\n",
    "data = np.array([])\n",
    "for y in range(1,years+1,1): \n",
    "    # size = days per year\n",
    "    size = 365\n",
    "    # mean annual temperature\n",
    "    pos = 15 \n",
    "    # standard deviation of daily temperature for simulating annual temp distribution \n",
    "    scale = 4\n",
    "    \n",
    "    annual_T1 = np.random.normal(pos, scale, size-extrem_days)\n",
    "    annual_T2 = np.random.normal(pos+5, scale+1, extrem_days)\n",
    "    \n",
    "    annual_T = np.concatenate((annual_T1, annual_T2))\n",
    "    annual_T_max.append(max(annual_T))\n",
    "\n",
    "    data = np.concatenate((data, annual_T))"
   ]
  },
  {
   "cell_type": "code",
   "execution_count": null,
   "id": "065c2f1d",
   "metadata": {},
   "outputs": [],
   "source": [
    "# Create a date range for the days\n",
    "date_range = pd.date_range(start='1950-01-01', periods=365*years, freq='D')\n",
    "# Create a DataFrame for better organization and visualization\n",
    "df = pd.DataFrame({'Date': date_range, 'DailyRecords': data})"
   ]
  },
  {
   "cell_type": "code",
   "execution_count": null,
   "id": "0a7fd9bc",
   "metadata": {},
   "outputs": [],
   "source": [
    "# Fit a normal distribution to the daily temperature records:\n",
    "mu, std = norm.fit(df['DailyRecords'])"
   ]
  },
  {
   "cell_type": "code",
   "execution_count": null,
   "id": "c4f6cc41",
   "metadata": {},
   "outputs": [],
   "source": [
    "# Create a histogram\n",
    "plt.hist(df['DailyRecords'], bins=30, density=True, alpha=0.6, color='g', edgecolor='black')\n",
    "\n",
    "# Plot the fitted function on top\n",
    "xmin, xmax = plt.xlim()\n",
    "x = np.linspace(xmin, xmax, 100)\n",
    "p = norm.pdf(x, mu, std)\n",
    "plt.plot(x, p, 'k', linewidth=2)\n",
    "\n",
    "# Add labels and title\n",
    "plt.title(f'Fit results: mu = {mu:.2f},  std = {std:.2f}')\n",
    "plt.xlabel('Temperature [°C]')\n",
    "plt.ylabel('Frequency')"
   ]
  },
  {
   "cell_type": "code",
   "execution_count": null,
   "id": "19756259",
   "metadata": {},
   "outputs": [],
   "source": [
    "# If we select a treshold we can model the return period based on the fitted distribution function\n",
    "event_threshold = 30 #°C\n",
    "# Optain the daily probability of threshold exeedance \n",
    "p_daily = 1 - norm(mu,std).cdf(event_threshold)\n",
    "# Transfrom this to an annual probability\n",
    "p_annual = 1 - (1 - p_daily)**365\n",
    "# Claculate return period\n",
    "return_period_model = 1/p_annual\n",
    "# Print result\n",
    "print(return_period_model)"
   ]
  },
  {
   "cell_type": "code",
   "execution_count": null,
   "id": "62d21829",
   "metadata": {},
   "outputs": [],
   "source": [
    "# Now we use an approach from Extreme Value Analysis\n",
    "\n",
    "# Extract year from the 'Date' column\n",
    "df['Year'] = df['Date'].dt.year\n",
    "\n",
    "# Find annual maxima and corresponding dates (Block Maximum)\n",
    "annual_maxima = df.loc[df.groupby('Year')['DailyRecords'].idxmax()]\n",
    "\n",
    "# Plot the time series\n",
    "plt.plot(df['Date'], df['DailyRecords'], label='Daily Records', linestyle='-', color='b', alpha=0.5)\n",
    "# Mark the annual maxima on the plot\n",
    "plt.scatter(annual_maxima['Date'], annual_maxima['DailyRecords'], color='red', marker='o', label='Annual Maxima')\n",
    "plt.title('Time Series with Annual Maxima Marked')\n",
    "plt.xlabel('Date')\n",
    "plt.ylabel('Value')\n",
    "plt.legend()\n",
    "plt.grid(True)\n",
    "plt.show()"
   ]
  },
  {
   "cell_type": "code",
   "execution_count": null,
   "id": "7895e36b",
   "metadata": {},
   "outputs": [],
   "source": [
    "# Now we fit the GEV function to the annual maxima\n",
    "gev_shape, gev_loc, gev_scale = gev.fit(annual_maxima['DailyRecords'])"
   ]
  },
  {
   "cell_type": "code",
   "execution_count": null,
   "id": "1ec01b72",
   "metadata": {},
   "outputs": [],
   "source": [
    "# Create histogram\n",
    "plt.hist(annual_T_max, bins=30, density=True, alpha=0.6, color='g', edgecolor='black')\n",
    "\n",
    "# Plot the fitted function\n",
    "xmin, xmax = plt.xlim()\n",
    "x = np.linspace(xmin, xmax, 100)\n",
    "p = gev(gev_shape,gev_loc,gev_scale).pdf(x)\n",
    "plt.plot(x, p, 'k', linewidth=2)\n",
    "\n",
    "# Add labels and title\n",
    "plt.title(f'Fit results: shape = {gev_shape:.2f}, loc = {gev_loc:.2f},  scale = {gev_scale:.2f}')\n",
    "plt.xlabel('Temperature [°C]')\n",
    "plt.ylabel('Frequency')"
   ]
  },
  {
   "cell_type": "code",
   "execution_count": null,
   "id": "28c08318",
   "metadata": {},
   "outputs": [],
   "source": [
    "# Model the return period based on the GEV function usinfg the same threshold value  \n",
    "p_annual_extrem = 1 - gev(gev_shape,gev_loc,gev_scale).cdf(event_threshold)\n",
    "return_period_extrem = 1/p_annual_extrem\n",
    "print(return_period_extrem)"
   ]
  },
  {
   "cell_type": "code",
   "execution_count": null,
   "id": "160f79e1",
   "metadata": {},
   "outputs": [],
   "source": []
  }
 ],
 "metadata": {
  "kernelspec": {
   "display_name": "Python 3 (ipykernel)",
   "language": "python",
   "name": "python3"
  },
  "language_info": {
   "codemirror_mode": {
    "name": "ipython",
    "version": 3
   },
   "file_extension": ".py",
   "mimetype": "text/x-python",
   "name": "python",
   "nbconvert_exporter": "python",
   "pygments_lexer": "ipython3",
   "version": "3.8.10"
  }
 },
 "nbformat": 4,
 "nbformat_minor": 5
}
